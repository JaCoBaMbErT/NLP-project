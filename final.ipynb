{
 "cells": [
  {
   "cell_type": "markdown",
   "metadata": {},
   "source": [
    "# NLP Project"
   ]
  },
  {
   "cell_type": "markdown",
   "metadata": {},
   "source": [
    "## Business Understanding"
   ]
  },
  {
   "cell_type": "markdown",
   "metadata": {},
   "source": [
    "- This analysis uses tweets gathered from SXSW 2013 and attempts to predict customer sentiment toward Apple and Google products.\n",
    "- Consumer sentiment toward brands can provide insight into the motivations behind their purchasing behaviors."
   ]
  },
  {
   "cell_type": "markdown",
   "metadata": {},
   "source": [
    "## Data Understanding"
   ]
  },
  {
   "cell_type": "markdown",
   "metadata": {},
   "source": [
    "### Overview\n",
    "- Source: https://data.world/crowdflower/brands-and-product-emotions\n",
    "- Human raters evaluated 9K tweets and rated the sentiment as positive, negative, or no emotion.\n",
    "- The tweets were gathered from the 2013 South by Southwest Festival, a festival centered around art, music, and new technology.\n",
    "- Target: positive/negative sentiment"
   ]
  },
  {
   "cell_type": "markdown",
   "metadata": {},
   "source": [
    "### Preprocessing\n",
    "- remove stopwords, mentions, hashtags, links\n",
    "- lowercase, stem/lemmatize, tokenize\n",
    "- vectorize with TF-IDF "
   ]
  },
  {
   "cell_type": "markdown",
   "metadata": {},
   "source": [
    "## Modeling & Evaluation"
   ]
  },
  {
   "cell_type": "markdown",
   "metadata": {},
   "source": [
    "### Models\n",
    "- Logistic Regression (with PCA?)\n",
    "- Multinomial Naïve Bayes\n",
    "- Random Forest \n"
   ]
  },
  {
   "cell_type": "markdown",
   "metadata": {},
   "source": [
    "### Evaluation Metrics\n",
    "- false positives - classify as customer likes the product when they do not \n",
    "- false negatives - classify as customer does not like product when they do"
   ]
  },
  {
   "cell_type": "markdown",
   "metadata": {},
   "source": [
    "## Conclusion"
   ]
  },
  {
   "cell_type": "markdown",
   "metadata": {},
   "source": []
  }
 ],
 "metadata": {
  "kernelspec": {
   "display_name": "Python 3",
   "language": "python",
   "name": "python3"
  },
  "language_info": {
   "name": "python",
   "version": "3.8.5"
  }
 },
 "nbformat": 4,
 "nbformat_minor": 2
}
